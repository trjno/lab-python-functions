{
 "cells": [
  {
   "cell_type": "markdown",
   "id": "25d7736c-ba17-4aff-b6bb-66eba20fbf4e",
   "metadata": {},
   "source": [
    "# Lab | Functions"
   ]
  },
  {
   "cell_type": "markdown",
   "id": "0c581062-8967-4d93-b06e-62833222f930",
   "metadata": {
    "tags": []
   },
   "source": [
    "## Exercise: Managing Customer Orders with Functions\n",
    "\n",
    "In the previous exercise, you improved the code for managing customer orders by using loops and flow control. Now, let's take it a step further and refactor the code by introducing functions.\n",
    "\n",
    "Follow the steps below to complete the exercise:\n",
    "\n",
    "1. Define a function named `initialize_inventory` that takes `products` as a parameter. Inside the function, implement the code for initializing the inventory dictionary using a loop and user input.\n",
    "\n",
    "2. Define a function named `get_customer_orders` that takes no parameters. Inside the function, implement the code for prompting the user to enter the product names using a loop. The function should return the `customer_orders` set.\n",
    "\n",
    "3. Define a function named `update_inventory` that takes `customer_orders` and `inventory` as parameters. Inside the function, implement the code for updating the inventory dictionary based on the customer orders.\n",
    "\n",
    "4. Define a function named `calculate_order_statistics` that takes `customer_orders` and `products` as parameters. Inside the function, implement the code for calculating the order statistics (total products ordered, and percentage of unique products ordered). The function should return these values.\n",
    "\n",
    "5. Define a function named `print_order_statistics` that takes `order_statistics` as a parameter. Inside the function, implement the code for printing the order statistics.\n",
    "\n",
    "6. Define a function named `print_updated_inventory` that takes `inventory` as a parameter. Inside the function, implement the code for printing the updated inventory.\n",
    "\n",
    "7. Call the functions in the appropriate sequence to execute the program and manage customer orders.\n",
    "\n",
    "Hints for functions:\n",
    "\n",
    "- Consider the input parameters required for each function and their return values.\n",
    "- Utilize function parameters and return values to transfer data between functions.\n",
    "- Test your functions individually to ensure they work correctly.\n",
    "\n",
    "\n"
   ]
  },
  {
   "cell_type": "code",
   "execution_count": 1,
   "id": "8aa0adf4-9be8-49c6-b795-3fe29e67fe5f",
   "metadata": {},
   "outputs": [],
   "source": [
    "products = [\"t-shirt\", \"mug\", \"hat\", \"book\", \"keychain\"]\n",
    "inventory = {}"
   ]
  },
  {
   "cell_type": "code",
   "execution_count": 2,
   "id": "571a7103-e81a-43c2-aed5-1cf94b6c23bb",
   "metadata": {},
   "outputs": [],
   "source": [
    "def initialize_inventory(products):\n",
    "    for item in products:\n",
    "        quantity = input(\"Input the quantity of \"+item+\" you have on stock: \")\n",
    "        inventory[item] = int(quantity)\n",
    "        "
   ]
  },
  {
   "cell_type": "code",
   "execution_count": 3,
   "id": "7f550e49-6966-4ca0-96cd-37ae3e902ad7",
   "metadata": {},
   "outputs": [],
   "source": [
    "customer_orders = set()\n",
    "def get_customer_orders():\n",
    "    add_another = 'yes'\n",
    "    while add_another.lower() == \"yes\":\n",
    "        new_product = input(\"Add the product for the customer :\")\n",
    "        customer_orders.add(new_product)\n",
    "        add_another = input(\"Do you want to add another product name ?: (yes/no)\")\n",
    "    return customer_orders\n",
    "        "
   ]
  },
  {
   "cell_type": "code",
   "execution_count": 4,
   "id": "a390b2be-343b-4948-b880-fee945d2748d",
   "metadata": {},
   "outputs": [],
   "source": [
    "def update_inventory(customer_orders, inventory):\n",
    "    for product in customer_orders:\n",
    "        if product in inventory:\n",
    "            inventory[product] -= 1"
   ]
  },
  {
   "cell_type": "code",
   "execution_count": 5,
   "id": "2a388827-abee-4a67-9829-7ff87c52fe4b",
   "metadata": {},
   "outputs": [],
   "source": [
    "def calculate_order_statistics(customer_orders, products):\n",
    "    total_products_ordered = len(customer_orders)\n",
    "    percentage_of_unique_products_ordered = total_products_ordered*100/len(products)\n",
    "\n",
    "    return (total_products_ordered, percentage_of_unique_products_ordered)"
   ]
  },
  {
   "cell_type": "code",
   "execution_count": 6,
   "id": "731344d9-ff51-4006-8021-b022fd1f0491",
   "metadata": {},
   "outputs": [],
   "source": [
    "other_statistics = tuple()\n",
    "\n",
    "def print_order_statistics(other_statistics):\n",
    "    print(\"The total products ordered is :\", other_statistics[0])\n",
    "    print(\"The percentage of unique products ordered is : \", other_statistics[1], \"%\")"
   ]
  },
  {
   "cell_type": "code",
   "execution_count": 7,
   "id": "4c57aee0-c69d-4770-ace7-efbd1750c3ea",
   "metadata": {},
   "outputs": [],
   "source": [
    "def print_updated_inventory(inventory):\n",
    "    for item, quantity in inventory.items():\n",
    "        print(item, \" : \", quantity)"
   ]
  },
  {
   "cell_type": "code",
   "execution_count": 8,
   "id": "b2ccf353-620e-4aa8-bd2c-3c29926e6107",
   "metadata": {},
   "outputs": [
    {
     "name": "stdin",
     "output_type": "stream",
     "text": [
      "Input the quantity of t-shirt you have on stock:  34\n",
      "Input the quantity of mug you have on stock:  72\n",
      "Input the quantity of hat you have on stock:  50\n",
      "Input the quantity of book you have on stock:  29\n",
      "Input the quantity of keychain you have on stock:  13\n"
     ]
    }
   ],
   "source": [
    "initialize_inventory(products)"
   ]
  },
  {
   "cell_type": "code",
   "execution_count": 9,
   "id": "08272642-ac09-44fc-819e-852450611e9f",
   "metadata": {},
   "outputs": [
    {
     "name": "stdin",
     "output_type": "stream",
     "text": [
      "Add the product for the customer : hat\n",
      "Do you want to add another product name ?: (yes/no) yes\n",
      "Add the product for the customer : mug\n",
      "Do you want to add another product name ?: (yes/no) yes\n",
      "Add the product for the customer : book\n",
      "Do you want to add another product name ?: (yes/no) no\n"
     ]
    },
    {
     "data": {
      "text/plain": [
       "{'book', 'hat', 'mug'}"
      ]
     },
     "execution_count": 9,
     "metadata": {},
     "output_type": "execute_result"
    }
   ],
   "source": [
    "get_customer_orders()"
   ]
  },
  {
   "cell_type": "code",
   "execution_count": 10,
   "id": "76970ff9-9ea5-4e28-b372-591caa77de6b",
   "metadata": {},
   "outputs": [],
   "source": [
    "update_inventory(customer_orders, inventory)"
   ]
  },
  {
   "cell_type": "code",
   "execution_count": 11,
   "id": "f49be379-f3c3-4024-a61b-ce624aca42e8",
   "metadata": {},
   "outputs": [
    {
     "name": "stdout",
     "output_type": "stream",
     "text": [
      "The total products ordered is : 3\n",
      "The percentage of unique products ordered is :  60.0 %\n"
     ]
    }
   ],
   "source": [
    "other_statistics = calculate_order_statistics(customer_orders, products)\n",
    "print_order_statistics(other_statistics)"
   ]
  },
  {
   "cell_type": "code",
   "execution_count": 12,
   "id": "63d3b341-d2f3-488e-afe9-56e5616fbe4f",
   "metadata": {},
   "outputs": [
    {
     "name": "stdout",
     "output_type": "stream",
     "text": [
      "t-shirt  :  34\n",
      "mug  :  71\n",
      "hat  :  49\n",
      "book  :  28\n",
      "keychain  :  13\n"
     ]
    }
   ],
   "source": [
    "print_updated_inventory(inventory)"
   ]
  }
 ],
 "metadata": {
  "kernelspec": {
   "display_name": "Python 3 (ipykernel)",
   "language": "python",
   "name": "python3"
  },
  "language_info": {
   "codemirror_mode": {
    "name": "ipython",
    "version": 3
   },
   "file_extension": ".py",
   "mimetype": "text/x-python",
   "name": "python",
   "nbconvert_exporter": "python",
   "pygments_lexer": "ipython3",
   "version": "3.11.7"
  }
 },
 "nbformat": 4,
 "nbformat_minor": 5
}
